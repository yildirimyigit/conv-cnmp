{
 "cells": [
  {
   "cell_type": "code",
   "execution_count": 1,
   "metadata": {},
   "outputs": [
    {
     "name": "stdout",
     "output_type": "stream",
     "text": [
      "Device : cuda:0\n"
     ]
    }
   ],
   "source": [
    "from model.conv_cnmp import ConvCNMP\n",
    "import torch\n",
    "\n",
    "\n",
    "def get_free_gpu():\n",
    "    gpu_util = []\n",
    "    for i in range(torch.cuda.device_count()):\n",
    "        torch.cuda.set_device(i)  # Switch GPU\n",
    "#        gpu_util.append((i, torch.cuda.memory_stats()['reserved_bytes.all.current'] / (1024 ** 2)))\n",
    "        gpu_util.append((i, torch.cuda.utilization()))\n",
    "    gpu_util.sort(key=lambda x: x[1])\n",
    "    return gpu_util[0][0]\n",
    "\n",
    "if torch.cuda.is_available():\n",
    "    available_gpu = get_free_gpu()\n",
    "    if available_gpu == 0:\n",
    "        device = torch.device(\"cuda:0\")\n",
    "    else:\n",
    "        device = torch.device(f\"cuda:{available_gpu}\")\n",
    "else:\n",
    "    device = torch.device(\"cpu\")\n",
    "\n",
    "print(\"Device :\", device)"
   ]
  },
  {
   "cell_type": "code",
   "execution_count": 2,
   "metadata": {},
   "outputs": [],
   "source": [
    "timestamp = '1710407937'\n",
    "data_root = f'data/synthetic/processed/{timestamp}'\n",
    "\n",
    "train_data = torch.load(f'{data_root}/train.pt')\n",
    "val_data = torch.load(f'{data_root}/val.pt')"
   ]
  },
  {
   "cell_type": "code",
   "execution_count": 3,
   "metadata": {},
   "outputs": [],
   "source": [
    "batch_size = 64\n",
    "dx, dy = 1, 1\n",
    "dc, dw, dh = 3, 32, 32  # image size\n",
    "t_steps = 200\n",
    "num_train, num_val = len(train_data), len(val_data)\n",
    "n_max, m_max = 10, 10"
   ]
  },
  {
   "cell_type": "code",
   "execution_count": 4,
   "metadata": {},
   "outputs": [],
   "source": [
    "# Pick 2 random nums: 1<=n<=n_max, 1<=m<=m_max\n",
    "# Define 4 tensors: envs (batch_size, dc, dw, dh), obs (batch_size, n, dx+dy), tar_x (batch_size, m, dx), tar_y (batch_size, m, dy)\n",
    "# For each traj_id:\n",
    "#   First, keep t[traj_id]['image'] in envs[traj_id].\n",
    "#   Then pick n random points from t[traj_id]['x'] and t[traj_id]['y'] and concat them to form a tensor of shape (1, n, 2). Store them in obs[traj_id].\n",
    "#   Then pick m random ids in [0, t_steps-1]. Pick corresponding x from t[traj_id]['x'] and store them in tar_x[traj_id]. Similarly, store corresponding y from t[traj_id]['y'] in tar_x[traj_id].\n",
    "# Return 4 tensors\n",
    "def get_batch(t: list, traj_ids: list, val=False):  # t can be either train_data or val_data\n",
    "    n = torch.randint(1, n_max, (1,)).item()\n",
    "    m = torch.randint(1, m_max, (1,)).item() if not val else t_steps\n",
    "\n",
    "    envs = torch.zeros((batch_size, dc, dw, dh), dtype=torch.float32, device=device)\n",
    "    obs = torch.zeros((batch_size, n, dx+dy), dtype=torch.float32, device=device)\n",
    "    tar_x = torch.zeros((batch_size, m, dx), dtype=torch.float32, device=device)\n",
    "    tar_y = torch.zeros((batch_size, m, dy), dtype=torch.float32, device=device)\n",
    "\n",
    "    for i, traj_id in enumerate(traj_ids):\n",
    "        traj = t[traj_id]\n",
    "        envs[i] = traj['env']\n",
    "\n",
    "        permuted_ids = torch.randperm(t_steps)\n",
    "        n_ids = permuted_ids[:n]\n",
    "        m_ids = permuted_ids[n:n+m] if not val else permuted_ids\n",
    "        \n",
    "        obs[i, :n, :dx] = traj['x'][n_ids]\n",
    "        obs[i, :n, dx:] = traj['y'][n_ids]\n",
    "        \n",
    "        tar_x[i] = traj['x'][m_ids]\n",
    "        tar_y[i] = traj['y'][m_ids]\n",
    "\n",
    "    return envs, obs, tar_x, tar_y"
   ]
  },
  {
   "cell_type": "code",
   "execution_count": 5,
   "metadata": {},
   "outputs": [
    {
     "data": {
      "text/plain": [
       "ConvCNMP(\n",
       "  (conv): Sequential(\n",
       "    (0): Conv2d(3, 256, kernel_size=(3, 3), stride=(1, 1))\n",
       "    (1): ReLU()\n",
       "    (2): MaxPool2d(kernel_size=2, stride=2, padding=0, dilation=1, ceil_mode=False)\n",
       "    (3): Conv2d(256, 128, kernel_size=(3, 3), stride=(1, 1))\n",
       "    (4): ReLU()\n",
       "    (5): MaxPool2d(kernel_size=2, stride=2, padding=0, dilation=1, ceil_mode=False)\n",
       "    (6): Conv2d(128, 64, kernel_size=(3, 3), stride=(1, 1))\n",
       "    (7): ReLU()\n",
       "    (8): Flatten(start_dim=1, end_dim=-1)\n",
       "    (9): Linear(in_features=1024, out_features=128, bias=True)\n",
       "  )\n",
       "  (encoder): Sequential(\n",
       "    (0): Linear(in_features=130, out_features=256, bias=True)\n",
       "    (1): ReLU()\n",
       "    (2): Linear(in_features=256, out_features=256, bias=True)\n",
       "    (3): ReLU()\n",
       "    (4): Linear(in_features=256, out_features=256, bias=True)\n",
       "    (5): ReLU()\n",
       "    (6): Linear(in_features=256, out_features=256, bias=True)\n",
       "  )\n",
       "  (decoder): Sequential(\n",
       "    (0): Linear(in_features=257, out_features=256, bias=True)\n",
       "    (1): ReLU()\n",
       "    (2): Linear(in_features=256, out_features=256, bias=True)\n",
       "    (3): ReLU()\n",
       "    (4): Linear(in_features=256, out_features=256, bias=True)\n",
       "    (5): ReLU()\n",
       "    (6): Linear(in_features=256, out_features=2, bias=True)\n",
       "  )\n",
       ")"
      ]
     },
     "execution_count": 5,
     "metadata": {},
     "output_type": "execute_result"
    }
   ],
   "source": [
    "model_ = ConvCNMP(linear_output_sizes=[512]).to(device)\n",
    "optimizer = torch.optim.Adam(lr=1e-4, params=model_.parameters())\n",
    "\n",
    "if torch.__version__ >= \"2.0\":\n",
    "    model = torch.compile(model_)"
   ]
  },
  {
   "cell_type": "code",
   "execution_count": 7,
   "metadata": {},
   "outputs": [
    {
     "name": "stderr",
     "output_type": "stream",
     "text": [
      "/home/yigit/.local/lib/python3.8/site-packages/torch/_inductor/compile_fx.py:90: UserWarning: TensorFloat32 tensor cores for float32 matrix multiplication available but not enabled. Consider setting `torch.set_float32_matmul_precision('high')` for better performance.\n",
      "  warnings.warn(\n",
      "[2024-03-14 13:03:10,689] torch._dynamo.convert_frame: [WARNING] torch._dynamo hit config.cache_size_limit (64)\n",
      "   function: 'forward' (/home/yigit/projects/conv-cnmp/model/conv_cnmp.py:201)\n",
      "   reasons:  tensor 'cnmp_obs' strides mismatch at index 0. expected 10, actual 6\n",
      "to diagnose recompilation issues, see https://pytorch.org/docs/master/dynamo/troubleshooting.html.\n"
     ]
    },
    {
     "name": "stdout",
     "output_type": "stream",
     "text": [
      "Epoch: 0, Loss: 0.0007644381220851626\n"
     ]
    }
   ],
   "source": [
    "import time\n",
    "import os\n",
    "\n",
    "timestamp = int(time.time())\n",
    "root_folder = f'output/synthetic/{str(timestamp)}/'\n",
    "\n",
    "if not os.path.exists(root_folder):\n",
    "    os.makedirs(root_folder)\n",
    "\n",
    "if not os.path.exists(f'{root_folder}saved_model/'):\n",
    "    os.makedirs(f'{root_folder}saved_model/')\n",
    "\n",
    "# if not os.path.exists(f'{root_folder}img/'):\n",
    "#     os.makedirs(f'{root_folder}img/')\n",
    "\n",
    "# torch.save(y, f'{root_folder}y.pt')\n",
    "\n",
    "\n",
    "epochs = 5_000_000\n",
    "epoch_iter = num_train//batch_size  # number of batches per epoch (e.g. 100//32 = 3)\n",
    "v_epoch_iter = num_val//batch_size  # number of batches per validation (e.g. 100//32 = 3)\n",
    "\n",
    "val_per_epoch = 1000  # validation frequency\n",
    "min_val_loss = 1_000_000\n",
    "\n",
    "mse_loss = torch.nn.MSELoss()\n",
    "\n",
    "training_loss, validation_error = [], []\n",
    "avg_loss = 0\n",
    "\n",
    "tr_loss_path = f'{root_folder}training_loss.pt'\n",
    "val_err_path = f'{root_folder}validation_error.pt'\n",
    "\n",
    "for epoch in range(epochs):\n",
    "    epoch_loss = 0\n",
    "\n",
    "    traj_ids = torch.randperm(num_train)[:batch_size*epoch_iter].chunk(epoch_iter)  # [:batch_size*epoch_iter] because nof_trajectories may be indivisible by batch_size\n",
    "\n",
    "    for i in range(epoch_iter):\n",
    "        optimizer.zero_grad()\n",
    "        envs, obs, tar_x, tar_y = get_batch(train_data, traj_ids[i], False)\n",
    "        pred = model(envs, obs, tar_x)\n",
    "        loss = model.loss(pred, tar_y)  # mean loss over the batch\n",
    "        loss.backward()\n",
    "        optimizer.step()\n",
    "\n",
    "        epoch_loss += loss.item()\n",
    "\n",
    "    epoch_loss /= epoch_iter  # mean loss over the epoch\n",
    "    \n",
    "    training_loss.append(epoch_loss)\n",
    "\n",
    "    if epoch % val_per_epoch == 0:\n",
    "        with torch.no_grad():\n",
    "            v_traj_ids = torch.randperm(num_val)[:batch_size*v_epoch_iter].chunk(v_epoch_iter)\n",
    "            val_loss = 0\n",
    "\n",
    "            for j in range(v_epoch_iter):\n",
    "                e, o, t, tr = get_batch(val_data, v_traj_ids[j], True)\n",
    "\n",
    "                p = model(e, o, t)\n",
    "                val_loss += mse_loss(p[:, :, :dy], tr).item()\n",
    "\n",
    "            validation_error.append(val_loss)\n",
    "            if val_loss < min_val_loss and epoch > 5e3:\n",
    "                min_val_loss = val_loss\n",
    "                print(f'New best: {min_val_loss}')\n",
    "                torch.save(model_.state_dict(), f'{root_folder}saved_model/on_synth.pt')\n",
    "\n",
    "    avg_loss += epoch_loss\n",
    "\n",
    "    if epoch % val_per_epoch == 0:\n",
    "        print(\"Epoch: {}, Loss: {}\".format(epoch, avg_loss/val_per_epoch))\n",
    "        avg_loss = 0\n",
    "\n",
    "torch.save(torch.Tensor(training_loss), tr_loss_path)\n",
    "torch.save(torch.Tensor(validation_error), val_err_path)"
   ]
  },
  {
   "cell_type": "code",
   "execution_count": null,
   "metadata": {},
   "outputs": [],
   "source": []
  }
 ],
 "metadata": {
  "kernelspec": {
   "display_name": "Python 3",
   "language": "python",
   "name": "python3"
  },
  "language_info": {
   "codemirror_mode": {
    "name": "ipython",
    "version": 3
   },
   "file_extension": ".py",
   "mimetype": "text/x-python",
   "name": "python",
   "nbconvert_exporter": "python",
   "pygments_lexer": "ipython3",
   "version": "3.8.10"
  }
 },
 "nbformat": 4,
 "nbformat_minor": 2
}
