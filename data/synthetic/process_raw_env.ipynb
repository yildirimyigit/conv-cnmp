{
 "cells": [
  {
   "cell_type": "code",
   "execution_count": 7,
   "metadata": {},
   "outputs": [],
   "source": [
    "import numpy as np\n",
    "import torch\n",
    "from PIL import Image\n",
    "import torchvision.transforms as transforms\n",
    "import os\n",
    "\n",
    "\n",
    "dw, dh = Image.open('raw/train/env_0.png').size\n",
    "dx, dy = 1, 1\n",
    "\n",
    "env_tf = transforms.Compose([\n",
    "    transforms.ToTensor(),\n",
    "    transforms.Lambda(lambda x: x[:3, :, :]),  # Keep only the first 3 channels (ignore alpha)\n",
    "    transforms.Normalize((0.5, 0.5, 0.5), (0.5, 0.5, 0.5))  # Normalize to range [-1,1]\n",
    "])\n",
    "\n",
    "# Read env_i.png and traj_i.npy from raw/train and raw/val to normalize & rearrange raw data in tensors\n",
    "def process(in_folder='raw/train'):\n",
    "    data = []\n",
    "    # iterate over all files in the in_folder\n",
    "    for filename in os.listdir(in_folder):\n",
    "        if filename.endswith('.png') and 'soln' not in filename:\n",
    "            img = env_tf(Image.open(os.path.join(in_folder, filename)))\n",
    "\n",
    "            traj_file = filename.replace('env', 'traj').replace('.png', '.npy')\n",
    "            traj = np.load(os.path.join(in_folder, traj_file)) / 30.0  # Normalize to range [0,1]\n",
    "            traj = torch.tensor(traj, dtype=torch.float32).unsqueeze(-1)  # dx, dy = 1, 1 so unqueeze gives x: (1, t_steps, 1) y: (1, t_steps, 1)\n",
    "            \n",
    "            data.append({'env': img, 'x': traj[0], 'y': traj[1]})\n",
    "    return data\n",
    "            "
   ]
  },
  {
   "cell_type": "code",
   "execution_count": 8,
   "metadata": {},
   "outputs": [],
   "source": [
    "train_data = process('raw/train')\n",
    "val_data = process('raw/val')\n",
    "\n",
    "# Save the processed data\n",
    "torch.save(train_data, 'processed/train.pt')\n",
    "torch.save(val_data, 'processed/val.pt')"
   ]
  },
  {
   "cell_type": "code",
   "execution_count": null,
   "metadata": {},
   "outputs": [],
   "source": []
  }
 ],
 "metadata": {
  "kernelspec": {
   "display_name": "Python 3",
   "language": "python",
   "name": "python3"
  },
  "language_info": {
   "codemirror_mode": {
    "name": "ipython",
    "version": 3
   },
   "file_extension": ".py",
   "mimetype": "text/x-python",
   "name": "python",
   "nbconvert_exporter": "python",
   "pygments_lexer": "ipython3",
   "version": "3.8.10"
  }
 },
 "nbformat": 4,
 "nbformat_minor": 2
}
